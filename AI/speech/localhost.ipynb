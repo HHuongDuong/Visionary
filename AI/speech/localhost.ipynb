{
 "cells": [
  {
   "cell_type": "code",
   "execution_count": 1,
   "metadata": {},
   "outputs": [
    {
     "name": "stderr",
     "output_type": "stream",
     "text": [
      "/home/automl/Xuanan/HMI/VisionMate/AI/venv/lib/python3.10/site-packages/tqdm/auto.py:21: TqdmWarning: IProgress not found. Please update jupyter and ipywidgets. See https://ipywidgets.readthedocs.io/en/stable/user_install.html\n",
      "  from .autonotebook import tqdm as notebook_tqdm\n",
      "2024-10-12 21:57:24.782465: E external/local_xla/xla/stream_executor/cuda/cuda_fft.cc:485] Unable to register cuFFT factory: Attempting to register factory for plugin cuFFT when one has already been registered\n",
      "2024-10-12 21:57:24.818759: E external/local_xla/xla/stream_executor/cuda/cuda_dnn.cc:8454] Unable to register cuDNN factory: Attempting to register factory for plugin cuDNN when one has already been registered\n",
      "2024-10-12 21:57:24.829835: E external/local_xla/xla/stream_executor/cuda/cuda_blas.cc:1452] Unable to register cuBLAS factory: Attempting to register factory for plugin cuBLAS when one has already been registered\n",
      "2024-10-12 21:57:24.857031: I tensorflow/core/platform/cpu_feature_guard.cc:210] This TensorFlow binary is optimized to use available CPU instructions in performance-critical operations.\n",
      "To enable the following instructions: AVX2 AVX512F FMA, in other operations, rebuild TensorFlow with the appropriate compiler flags.\n",
      "2024-10-12 21:57:26.693558: W tensorflow/compiler/tf2tensorrt/utils/py_utils.cc:38] TF-TRT Warning: Could not find TensorRT\n"
     ]
    }
   ],
   "source": [
    "from transformers import VisionEncoderDecoderModel, ViTImageProcessor, AutoTokenizer\n",
    "import torch\n",
    "from PIL import Image\n",
    "from typing import List, Union\n",
    "import logging\n",
    "import time\n",
    "import io\n",
    "from concurrent.futures import ThreadPoolExecutor\n",
    "\n",
    "logging.basicConfig(level=logging.INFO)\n",
    "logger = logging.getLogger(__name__)\n",
    "\n",
    "class ImageCaptioningPipeline:\n",
    "    def __init__(self, model_path: str = \"nlpconnect/vit-gpt2-image-captioning\",\n",
    "                 max_length: int = 16, num_beams: int = 4, batch_size: int = 8):\n",
    "        self.device = torch.device(\"cuda\" if torch.cuda.is_available() else \"cpu\")\n",
    "        self.max_length = max_length\n",
    "        self.num_beams = num_beams\n",
    "        self.batch_size = batch_size\n",
    "        \n",
    "        logger.info(f\"Loading model from {model_path}\")\n",
    "        self.model = VisionEncoderDecoderModel.from_pretrained(model_path)\n",
    "        self.feature_extractor = ViTImageProcessor.from_pretrained(model_path)\n",
    "        self.tokenizer = AutoTokenizer.from_pretrained(model_path)\n",
    "        \n",
    "        self.model.to(self.device)\n",
    "        if self.device.type == 'cuda':\n",
    "            self.model = self.model.half()  # FP16 for faster inference\n",
    "        self.model.eval()\n",
    "        \n",
    "        self.model.gradient_checkpointing_enable()\n",
    "\n",
    "        # Warmup\n",
    "        logger.info(\"Warming up model...\")\n",
    "        dummy_image = torch.randn(1, 3, 224, 224, device=self.device)\n",
    "        if self.device.type == 'cuda':\n",
    "            dummy_image = dummy_image.half()\n",
    "        with torch.no_grad():\n",
    "            _ = self.model.generate(dummy_image, \n",
    "                                   max_length=self.max_length,\n",
    "                                   num_beams=self.num_beams)\n",
    "        \n",
    "        self.gen_kwargs = {\n",
    "            \"max_length\": max_length, \n",
    "            \"num_beams\": num_beams,\n",
    "            \"pad_token_id\": self.tokenizer.pad_token_id,\n",
    "            \"use_cache\": True  \n",
    "        }\n",
    "\n",
    "    @staticmethod\n",
    "    def load_image(image_path: Union[str, bytes, Image.Image]) -> Image.Image:\n",
    "        if isinstance(image_path, str):\n",
    "            image = Image.open(image_path)\n",
    "        elif isinstance(image_path, bytes):\n",
    "            image = Image.open(io.BytesIO(image_path))\n",
    "        elif isinstance(image_path, Image.Image):\n",
    "            image = image_path\n",
    "        else:\n",
    "            raise ValueError(f\"Unsupported image type: {type(image_path)}\")\n",
    "        \n",
    "        if image.mode != \"RGB\":\n",
    "            image = image.convert(mode=\"RGB\")\n",
    "        return image\n",
    "\n",
    "    def preprocess_images(self, image_paths: List[Union[str, bytes, Image.Image]]) -> torch.Tensor:\n",
    "        with ThreadPoolExecutor() as executor:\n",
    "            images = list(executor.map(self.load_image, image_paths))\n",
    "        pixel_values = self.feature_extractor(images=images, return_tensors=\"pt\").pixel_values\n",
    "        pixel_values = pixel_values.pin_memory() if self.device.type == 'cuda' else pixel_values\n",
    "        if self.device.type == 'cuda':\n",
    "            pass\n",
    "            # pixel_values = pixel_values.half()\n",
    "        return pixel_values.to(self.device, non_blocking=True)\n",
    "\n",
    "    @torch.no_grad()\n",
    "    def __call__(self, image_paths: List[Union[str, bytes, Image.Image]]) -> List[str]:\n",
    "        pixel_values = self.preprocess_images(image_paths)\n",
    "        \n",
    "        with torch.amp.autocast('cuda', enabled=self.device.type == 'cuda'):  # Mixed precision\n",
    "            output_ids = self.model.generate(\n",
    "                pixel_values,\n",
    "                **self.gen_kwargs\n",
    "            )\n",
    "        \n",
    "        preds = self.tokenizer.batch_decode(output_ids, skip_special_tokens=True, clean_up_tokenization_spaces=True)\n",
    "        return [pred.strip() for pred in preds]\n"
   ]
  },
  {
   "cell_type": "code",
   "execution_count": 2,
   "metadata": {},
   "outputs": [
    {
     "name": "stderr",
     "output_type": "stream",
     "text": [
      "INFO:__main__:Loading model from nlpconnect/vit-gpt2-image-captioning\n",
      "VisionEncoderDecoderModel has generative capabilities, as `prepare_inputs_for_generation` is explicitly overwritten. However, it doesn't directly inherit from `GenerationMixin`. From 👉v4.50👈 onwards, `PreTrainedModel` will NOT inherit from `GenerationMixin`, and this model will lose the ability to call `generate` and other related functions.\n",
      "  - If you're using `trust_remote_code=True`, you can get rid of this warning by loading the model with an auto class. See https://huggingface.co/docs/transformers/en/model_doc/auto#auto-classes\n",
      "  - If you are the owner of the model architecture code, please modify your model class such that it inherits from `GenerationMixin` (after `PreTrainedModel`, otherwise you'll get an exception).\n",
      "  - If you are not the owner of the model architecture class, please contact the model code owner to update it.\n",
      "INFO:__main__:Warming up model...\n",
      "The attention mask is not set and cannot be inferred from input because pad token is same as eos token. As a consequence, you may observe unexpected behavior. Please pass your input's `attention_mask` to obtain reliable results.\n",
      "We strongly recommend passing in an `attention_mask` since your input_ids may be padded. See https://huggingface.co/docs/transformers/troubleshooting#incorrect-output-when-padding-tokens-arent-masked.\n",
      "You may ignore this warning if your `pad_token_id` (50256) is identical to the `bos_token_id` (50256), `eos_token_id` (50256), or the `sep_token_id` (None), and your input is not padded.\n"
     ]
    }
   ],
   "source": [
    "pipeline = ImageCaptioningPipeline()\n"
   ]
  },
  {
   "cell_type": "code",
   "execution_count": 3,
   "metadata": {},
   "outputs": [
    {
     "name": "stderr",
     "output_type": "stream",
     "text": [
      "INFO:__main__:Running PyTorch pipeline...\n",
      "INFO:__main__:Inference time: 0.61 seconds\n",
      "INFO:__main__:/home/automl/Xuanan/HMI/VisionMate/AI/image.png: a soccer game in progress with a player jumping for the ball\n"
     ]
    }
   ],
   "source": [
    "image_paths = ['/home/automl/Xuanan/HMI/VisionMate/AI/image.png']\n",
    "    \n",
    "logger.info(\"Running PyTorch pipeline...\")\n",
    "start_time = time.time()\n",
    "\n",
    "captions = pipeline(image_paths)\n",
    "    \n",
    "end_time = time.time()\n",
    "logger.info(f\"Inference time: {end_time - start_time:.2f} seconds\")\n",
    "    \n",
    "for path, caption in zip(image_paths, captions):\n",
    "    logger.info(f\"{path}: {caption}\")\n"
   ]
  },
  {
   "cell_type": "code",
   "execution_count": null,
   "metadata": {},
   "outputs": [],
   "source": []
  }
 ],
 "metadata": {
  "kernelspec": {
   "display_name": "venv",
   "language": "python",
   "name": "python3"
  },
  "language_info": {
   "codemirror_mode": {
    "name": "ipython",
    "version": 3
   },
   "file_extension": ".py",
   "mimetype": "text/x-python",
   "name": "python",
   "nbconvert_exporter": "python",
   "pygments_lexer": "ipython3",
   "version": "3.10.12"
  }
 },
 "nbformat": 4,
 "nbformat_minor": 2
}
